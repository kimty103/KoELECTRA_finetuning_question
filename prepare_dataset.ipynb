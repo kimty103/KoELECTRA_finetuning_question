{
 "cells": [
  {
   "cell_type": "code",
   "execution_count": 1,
   "metadata": {
    "collapsed": true,
    "ExecuteTime": {
     "end_time": "2023-07-10T05:25:17.733450900Z",
     "start_time": "2023-07-10T05:25:17.527954900Z"
    }
   },
   "outputs": [],
   "source": [
    "import pandas as pd"
   ]
  },
  {
   "cell_type": "code",
   "execution_count": 9,
   "outputs": [],
   "source": [
    "df_1 = pd.read_excel('finetune/data/question-cls/A 음식점(15,726)_new.xlsx')"
   ],
   "metadata": {
    "collapsed": false,
    "ExecuteTime": {
     "end_time": "2023-07-10T05:48:26.566099600Z",
     "start_time": "2023-07-10T05:48:25.533453200Z"
    }
   }
  },
  {
   "cell_type": "code",
   "execution_count": 10,
   "outputs": [
    {
     "data": {
      "text/plain": "  SPEAKER                                           SENTENCE DOMAINID DOMAIN  \\\n0      고객                                          지금 배달되나요?        A    음식점   \n1      점원                                          아 네 배달됩니다        A    음식점   \n2      고객                       짬뽕류는 어떤 게 있나요? 잘 나가는 짬뽕 있나요?        A    음식점   \n3      점원  특해물 짬뽕도 있고 전복 새우 짬뽕도 있고 해물 종류도 새우 홍합 전복 없는 게 없습니다        A    음식점   \n4      고객                          전복 들어가는 거는 특해물 짬뽕 시켜야 돼요?        A    음식점   \n\n  CATEGORY  SPEAKERID SENTENCEID         MAIN  SUB QA QACNCT  \\\n0    배달음식점          1          1       배달가능문의  NaN  Q    NaN   \n1    배달음식점          0          2       배달가능문의  NaN  A    NaN   \n2    배달음식점          1          3  베스트메뉴문의추천요청  NaN  Q    NaN   \n3    배달음식점          0          4  베스트메뉴문의추천요청  NaN  A    NaN   \n4    배달음식점          1          5       메뉴정보문의  NaN  Q    NaN   \n\n                             MQ   SQ   UA  \\\n0                     지금 배달되나요?  NaN  NaN   \n1                           NaN  NaN  NaN   \n2  짬뽕류는 어떤 게 있나요? 잘 나가는 짬뽕 있나요?  NaN  NaN   \n3                           NaN  NaN  NaN   \n4     전복 들어가는 거는 특해물 짬뽕 시켜야 돼요?  NaN  NaN   \n\n                                                  SA  \\\n0                                                NaN   \n1                                          아 네 배달됩니다   \n2                                                NaN   \n3  특해물 짬뽕도 있고 전복 새우 짬뽕도 있고 해물 종류도 새우 홍합 전복 없는 게 없습니다   \n4                                                NaN   \n\n                                   개체명 용어사전  \\\n0                           수고, 지금, 배달  NaN   \n1                                   배달  NaN   \n2                                   짬뽕  NaN   \n3  특해물 짬뽕, 전복 새우 짬뽕, 해물 종류, 새우, 홍합, 전복  NaN   \n4                           전복, 특해물 짬뽕  NaN   \n\n                                               지식베이스  \n0                                                NaN  \n1                                                NaN  \n2                                              짬뽕/메뉴  \n3  특해물 짬뽕/메뉴, 전복 새우 짬뽕/메뉴, 새우/해물/재료, 홍합/해물/재료, 전복...  \n4                                전복/해물/재료, 특해물 짬뽕/메뉴  ",
      "text/html": "<div>\n<style scoped>\n    .dataframe tbody tr th:only-of-type {\n        vertical-align: middle;\n    }\n\n    .dataframe tbody tr th {\n        vertical-align: top;\n    }\n\n    .dataframe thead th {\n        text-align: right;\n    }\n</style>\n<table border=\"1\" class=\"dataframe\">\n  <thead>\n    <tr style=\"text-align: right;\">\n      <th></th>\n      <th>SPEAKER</th>\n      <th>SENTENCE</th>\n      <th>DOMAINID</th>\n      <th>DOMAIN</th>\n      <th>CATEGORY</th>\n      <th>SPEAKERID</th>\n      <th>SENTENCEID</th>\n      <th>MAIN</th>\n      <th>SUB</th>\n      <th>QA</th>\n      <th>QACNCT</th>\n      <th>MQ</th>\n      <th>SQ</th>\n      <th>UA</th>\n      <th>SA</th>\n      <th>개체명</th>\n      <th>용어사전</th>\n      <th>지식베이스</th>\n    </tr>\n  </thead>\n  <tbody>\n    <tr>\n      <th>0</th>\n      <td>고객</td>\n      <td>지금 배달되나요?</td>\n      <td>A</td>\n      <td>음식점</td>\n      <td>배달음식점</td>\n      <td>1</td>\n      <td>1</td>\n      <td>배달가능문의</td>\n      <td>NaN</td>\n      <td>Q</td>\n      <td>NaN</td>\n      <td>지금 배달되나요?</td>\n      <td>NaN</td>\n      <td>NaN</td>\n      <td>NaN</td>\n      <td>수고, 지금, 배달</td>\n      <td>NaN</td>\n      <td>NaN</td>\n    </tr>\n    <tr>\n      <th>1</th>\n      <td>점원</td>\n      <td>아 네 배달됩니다</td>\n      <td>A</td>\n      <td>음식점</td>\n      <td>배달음식점</td>\n      <td>0</td>\n      <td>2</td>\n      <td>배달가능문의</td>\n      <td>NaN</td>\n      <td>A</td>\n      <td>NaN</td>\n      <td>NaN</td>\n      <td>NaN</td>\n      <td>NaN</td>\n      <td>아 네 배달됩니다</td>\n      <td>배달</td>\n      <td>NaN</td>\n      <td>NaN</td>\n    </tr>\n    <tr>\n      <th>2</th>\n      <td>고객</td>\n      <td>짬뽕류는 어떤 게 있나요? 잘 나가는 짬뽕 있나요?</td>\n      <td>A</td>\n      <td>음식점</td>\n      <td>배달음식점</td>\n      <td>1</td>\n      <td>3</td>\n      <td>베스트메뉴문의추천요청</td>\n      <td>NaN</td>\n      <td>Q</td>\n      <td>NaN</td>\n      <td>짬뽕류는 어떤 게 있나요? 잘 나가는 짬뽕 있나요?</td>\n      <td>NaN</td>\n      <td>NaN</td>\n      <td>NaN</td>\n      <td>짬뽕</td>\n      <td>NaN</td>\n      <td>짬뽕/메뉴</td>\n    </tr>\n    <tr>\n      <th>3</th>\n      <td>점원</td>\n      <td>특해물 짬뽕도 있고 전복 새우 짬뽕도 있고 해물 종류도 새우 홍합 전복 없는 게 없습니다</td>\n      <td>A</td>\n      <td>음식점</td>\n      <td>배달음식점</td>\n      <td>0</td>\n      <td>4</td>\n      <td>베스트메뉴문의추천요청</td>\n      <td>NaN</td>\n      <td>A</td>\n      <td>NaN</td>\n      <td>NaN</td>\n      <td>NaN</td>\n      <td>NaN</td>\n      <td>특해물 짬뽕도 있고 전복 새우 짬뽕도 있고 해물 종류도 새우 홍합 전복 없는 게 없습니다</td>\n      <td>특해물 짬뽕, 전복 새우 짬뽕, 해물 종류, 새우, 홍합, 전복</td>\n      <td>NaN</td>\n      <td>특해물 짬뽕/메뉴, 전복 새우 짬뽕/메뉴, 새우/해물/재료, 홍합/해물/재료, 전복...</td>\n    </tr>\n    <tr>\n      <th>4</th>\n      <td>고객</td>\n      <td>전복 들어가는 거는 특해물 짬뽕 시켜야 돼요?</td>\n      <td>A</td>\n      <td>음식점</td>\n      <td>배달음식점</td>\n      <td>1</td>\n      <td>5</td>\n      <td>메뉴정보문의</td>\n      <td>NaN</td>\n      <td>Q</td>\n      <td>NaN</td>\n      <td>전복 들어가는 거는 특해물 짬뽕 시켜야 돼요?</td>\n      <td>NaN</td>\n      <td>NaN</td>\n      <td>NaN</td>\n      <td>전복, 특해물 짬뽕</td>\n      <td>NaN</td>\n      <td>전복/해물/재료, 특해물 짬뽕/메뉴</td>\n    </tr>\n  </tbody>\n</table>\n</div>"
     },
     "execution_count": 10,
     "metadata": {},
     "output_type": "execute_result"
    }
   ],
   "source": [
    "df_1.head()"
   ],
   "metadata": {
    "collapsed": false,
    "ExecuteTime": {
     "end_time": "2023-07-10T05:48:27.110349100Z",
     "start_time": "2023-07-10T05:48:27.087350100Z"
    }
   }
  },
  {
   "cell_type": "code",
   "execution_count": 11,
   "outputs": [
    {
     "data": {
      "text/plain": "15726"
     },
     "execution_count": 11,
     "metadata": {},
     "output_type": "execute_result"
    }
   ],
   "source": [
    "len(df_1)"
   ],
   "metadata": {
    "collapsed": false,
    "ExecuteTime": {
     "end_time": "2023-07-10T05:48:28.493615600Z",
     "start_time": "2023-07-10T05:48:28.482616Z"
    }
   }
  },
  {
   "cell_type": "code",
   "execution_count": 12,
   "outputs": [],
   "source": [
    "# get df_1['MAIN'] contain word '문의' and df_1['MQ'] is not NaN\n",
    "df_1_question = df_1[df_1['MAIN'].str.contains('문의') & df_1['MQ'].notnull()]['MQ']"
   ],
   "metadata": {
    "collapsed": false,
    "ExecuteTime": {
     "end_time": "2023-07-10T05:48:30.111131100Z",
     "start_time": "2023-07-10T05:48:30.088300300Z"
    }
   }
  },
  {
   "cell_type": "code",
   "execution_count": 15,
   "outputs": [
    {
     "data": {
      "text/plain": "4218"
     },
     "execution_count": 15,
     "metadata": {},
     "output_type": "execute_result"
    }
   ],
   "source": [
    "len(df_1_question)"
   ],
   "metadata": {
    "collapsed": false,
    "ExecuteTime": {
     "end_time": "2023-07-10T05:48:40.714373800Z",
     "start_time": "2023-07-10T05:48:40.701374500Z"
    }
   }
  },
  {
   "cell_type": "code",
   "execution_count": 16,
   "outputs": [
    {
     "data": {
      "text/plain": "0                       지금 배달되나요?\n2    짬뽕류는 어떤 게 있나요? 잘 나가는 짬뽕 있나요?\n4       전복 들어가는 거는 특해물 짬뽕 시켜야 돼요?\n6      전복 들어가고 여러 가지 또 딴 것도 들어가죠?\n8            마차이 짬뽕밥은 돼지고기 들어가나요?\nName: MQ, dtype: object"
     },
     "execution_count": 16,
     "metadata": {},
     "output_type": "execute_result"
    }
   ],
   "source": [
    "df_1_question.head()"
   ],
   "metadata": {
    "collapsed": false,
    "ExecuteTime": {
     "end_time": "2023-07-10T05:48:44.542597800Z",
     "start_time": "2023-07-10T05:48:44.513800700Z"
    }
   }
  },
  {
   "cell_type": "code",
   "execution_count": 17,
   "outputs": [],
   "source": [
    "df_1_not_question = df_1[df_1['SA'].notnull()]['SA']"
   ],
   "metadata": {
    "collapsed": false,
    "ExecuteTime": {
     "end_time": "2023-07-10T05:54:23.900664600Z",
     "start_time": "2023-07-10T05:54:23.874253200Z"
    }
   }
  },
  {
   "cell_type": "code",
   "execution_count": 18,
   "outputs": [
    {
     "data": {
      "text/plain": "6037"
     },
     "execution_count": 18,
     "metadata": {},
     "output_type": "execute_result"
    }
   ],
   "source": [
    "len(df_1_not_question)"
   ],
   "metadata": {
    "collapsed": false,
    "ExecuteTime": {
     "end_time": "2023-07-10T05:54:26.236413700Z",
     "start_time": "2023-07-10T05:54:26.231414800Z"
    }
   }
  },
  {
   "cell_type": "code",
   "execution_count": 19,
   "outputs": [
    {
     "data": {
      "text/plain": "1                                            아 네 배달됩니다\n3    특해물 짬뽕도 있고 전복 새우 짬뽕도 있고 해물 종류도 새우 홍합 전복 없는 게 없습니다\n5                                   전복 짬뽕 시키면 전복이 들어가죠\n7                                                   네네\n9                                   짬뽕은 돼지고기 약간씩 들어갑니다\nName: SA, dtype: object"
     },
     "execution_count": 19,
     "metadata": {},
     "output_type": "execute_result"
    }
   ],
   "source": [
    "df_1_not_question.head()"
   ],
   "metadata": {
    "collapsed": false,
    "ExecuteTime": {
     "end_time": "2023-07-10T05:54:28.597988Z",
     "start_time": "2023-07-10T05:54:28.581988Z"
    }
   }
  },
  {
   "cell_type": "code",
   "execution_count": 28,
   "outputs": [],
   "source": [
    "# for all excel file in data folder\n",
    "import os\n",
    "\n",
    "question_list = []\n",
    "not_question_list = []\n",
    "\n",
    "\n",
    "for file in os.listdir('data'):\n",
    "    df = pd.read_excel('data/' + file)\n",
    "    df_question = df[df['MAIN'].str.contains('문의') & df['MQ'].notnull()]['MQ']\n",
    "    df_not_question = df[df['SA'].notnull()]['SA']\n",
    "    question_list += (df_question.to_list())\n",
    "    not_question_list += (df_not_question.to_list())\n"
   ],
   "metadata": {
    "collapsed": false,
    "ExecuteTime": {
     "end_time": "2023-07-10T07:38:15.783675100Z",
     "start_time": "2023-07-10T07:38:09.740079100Z"
    }
   }
  },
  {
   "cell_type": "code",
   "execution_count": 30,
   "outputs": [
    {
     "data": {
      "text/plain": "33117"
     },
     "execution_count": 30,
     "metadata": {},
     "output_type": "execute_result"
    }
   ],
   "source": [
    "len(question_list)"
   ],
   "metadata": {
    "collapsed": false,
    "ExecuteTime": {
     "end_time": "2023-07-10T07:38:20.540850800Z",
     "start_time": "2023-07-10T07:38:20.534851200Z"
    }
   }
  },
  {
   "cell_type": "code",
   "execution_count": 31,
   "outputs": [
    {
     "data": {
      "text/plain": "33798"
     },
     "execution_count": 31,
     "metadata": {},
     "output_type": "execute_result"
    }
   ],
   "source": [
    "len(not_question_list)"
   ],
   "metadata": {
    "collapsed": false,
    "ExecuteTime": {
     "end_time": "2023-07-10T07:38:48.051878100Z",
     "start_time": "2023-07-10T07:38:48.044828400Z"
    }
   }
  },
  {
   "cell_type": "code",
   "execution_count": null,
   "outputs": [],
   "source": [],
   "metadata": {
    "collapsed": false
   }
  },
  {
   "cell_type": "markdown",
   "source": [
    "# TRAIN TEST SPLIT\n",
    "---"
   ],
   "metadata": {
    "collapsed": false
   }
  },
  {
   "cell_type": "code",
   "execution_count": 37,
   "outputs": [],
   "source": [
    "#imoprt train_test_split\n",
    "from sklearn.model_selection import train_test_split\n",
    "\n",
    "question_train, question_test = train_test_split(question_list, test_size=0.2, random_state=42)\n",
    "not_question_train, not_question_test = train_test_split(not_question_list, test_size=0.2, random_state=42)"
   ],
   "metadata": {
    "collapsed": false,
    "ExecuteTime": {
     "end_time": "2023-07-11T03:40:15.664771300Z",
     "start_time": "2023-07-11T03:40:15.340915800Z"
    }
   }
  },
  {
   "cell_type": "code",
   "execution_count": 40,
   "outputs": [
    {
     "name": "stdout",
     "output_type": "stream",
     "text": [
      "26493 6624 27038 6760\n"
     ]
    }
   ],
   "source": [
    "print(len(question_train), len(question_test), len(not_question_train), len(not_question_test))"
   ],
   "metadata": {
    "collapsed": false,
    "ExecuteTime": {
     "end_time": "2023-07-11T03:40:46.383286500Z",
     "start_time": "2023-07-11T03:40:46.369304200Z"
    }
   }
  },
  {
   "cell_type": "code",
   "execution_count": 43,
   "outputs": [
    {
     "name": "stdout",
     "output_type": "stream",
     "text": [
      "선생님은 몇 분?\n"
     ]
    }
   ],
   "source": [
    "print(question_train[0])"
   ],
   "metadata": {
    "collapsed": false,
    "ExecuteTime": {
     "end_time": "2023-07-11T03:42:32.106461500Z",
     "start_time": "2023-07-11T03:42:32.073422100Z"
    }
   }
  },
  {
   "cell_type": "code",
   "execution_count": 47,
   "outputs": [
    {
     "name": "stdout",
     "output_type": "stream",
     "text": [
      "53532\n"
     ]
    }
   ],
   "source": [
    "out_file_train_head = [\"document\\tlabel\"]\n",
    "out_file_train = []\n",
    "for question in question_train:\n",
    "    out_file_train.append(f\"{question}\\t1\")\n",
    "for not_question in not_question_train:\n",
    "    out_file_train.append(f\"{not_question}\\t0\")\n",
    "import random\n",
    "random.shuffle(out_file_train)\n",
    "out_file_train = out_file_train_head + out_file_train\n",
    "print(len(out_file_train))\n",
    "#save out_file to txt file\n",
    "with open('data/train.txt', 'w',encoding=\"utf-8\") as f:\n",
    "    for line in out_file_train:\n",
    "        f.write(line + \"\\n\")"
   ],
   "metadata": {
    "collapsed": false,
    "ExecuteTime": {
     "end_time": "2023-07-11T03:44:42.711128300Z",
     "start_time": "2023-07-11T03:44:42.661127700Z"
    }
   }
  },
  {
   "cell_type": "code",
   "execution_count": 49,
   "outputs": [
    {
     "name": "stdout",
     "output_type": "stream",
     "text": [
      "13385\n"
     ]
    }
   ],
   "source": [
    "out_file_test_head = [\"document\\tlabel\"]\n",
    "out_file_test = []\n",
    "for question in question_test:\n",
    "    out_file_test.append(f\"{question}\\t1\")\n",
    "for not_question in not_question_test:\n",
    "    out_file_test.append(f\"{not_question}\\t0\")\n",
    "import random\n",
    "random.shuffle(out_file_test)\n",
    "out_file_test = out_file_test_head + out_file_test\n",
    "print(len(out_file_test))\n",
    "#save out_file to txt file\n",
    "with open('data/test.txt', 'w',encoding=\"utf-8\") as f:\n",
    "    for line in out_file_test:\n",
    "        f.write(line + \"\\n\")"
   ],
   "metadata": {
    "collapsed": false,
    "ExecuteTime": {
     "end_time": "2023-07-11T03:46:54.009897700Z",
     "start_time": "2023-07-11T03:46:53.987783100Z"
    }
   }
  },
  {
   "cell_type": "code",
   "execution_count": 34,
   "outputs": [],
   "source": [
    "from transformers import ElectraForSequenceClassification, ElectraTokenizer"
   ],
   "metadata": {
    "collapsed": false,
    "ExecuteTime": {
     "end_time": "2023-07-11T03:07:45.191317300Z",
     "start_time": "2023-07-11T03:07:42.695598400Z"
    }
   }
  },
  {
   "cell_type": "code",
   "execution_count": null,
   "outputs": [],
   "source": [],
   "metadata": {
    "collapsed": false
   }
  }
 ],
 "metadata": {
  "kernelspec": {
   "display_name": "Python 3",
   "language": "python",
   "name": "python3"
  },
  "language_info": {
   "codemirror_mode": {
    "name": "ipython",
    "version": 2
   },
   "file_extension": ".py",
   "mimetype": "text/x-python",
   "name": "python",
   "nbconvert_exporter": "python",
   "pygments_lexer": "ipython2",
   "version": "2.7.6"
  }
 },
 "nbformat": 4,
 "nbformat_minor": 0
}
